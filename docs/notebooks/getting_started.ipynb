{
 "cells": [
  {
   "cell_type": "markdown",
   "metadata": {},
   "source": [
    "# Welcome to vCDAT\n",
    "This is your personal JupyterLab vCDAT interface.\n",
    "\n",
    "Just press **shift-enter** to follow the getting started guide."
   ]
  },
  {
   "cell_type": "markdown",
   "metadata": {},
   "source": [
    "## Resources\n",
    "A small introduction video to JupyterLab."
   ]
  },
  {
   "cell_type": "code",
   "execution_count": null,
   "metadata": {},
   "outputs": [],
   "source": [
    "from IPython.display import YouTubeVideo\n",
    "YouTubeVideo('ctOM-Gza04Y')"
   ]
  },
  {
   "cell_type": "markdown",
   "metadata": {},
   "source": [
    "Let's continue with a small tour of the environment."
   ]
  },
  {
   "cell_type": "markdown",
   "metadata": {},
   "source": [
    "## Storage\n",
    "\n",
    "### Using Your Own Data\n",
    "\n",
    "Ensure that your NetCDF data files are **located in the same directory from which you launched the JupyterLab interface or in a subdirectory** (like sample_data). Once your own data files are in this directory, they should automatically show up in the JupyterLab interface and be listed in the left panel. If you do not see them immediately, refresh the browser. If you still do not see the files, click on the grey file folder in the top left corner of the interface to make sure the list of files is showing.\n",
    "\n",
    "If you need to access data outside of your *top* directory, you can create a symbolic link to them.\n",
    "\n",
    "For example assuming you would like to access data in `/scratch/some_data` (and assuming you can access this directory), simply go to the *top* directory of your user space (usually `$HOME`) and run this command\n",
    "\n",
    "```bash\n",
    "ln -s /scratch/some_data my_link_to_some_data\n",
    "```\n",
    "\n",
    "Now in the jupyter interface you should see a directory called `my_link_to_some_data` simply click on it and you are where you want to be.\n",
    "\n",
    "### Download the Sample Data\n",
    "\n",
    "To download some test data we've provided, enter the code below within a cell in a Jupyter notebook and run the cell by holding down shift and pressing enter while that cell is highlighted:\n",
    "\n",
    "```python\n",
    "import vcs\n",
    "import cdms2\n",
    "import cdat_info\n",
    "import pkg_resources\n",
    "vcs_egg_path = pkg_resources.resource_filename(pkg_resources.Requirement.parse(\"vcs\"), \"share/vcs\")\n",
    "path = vcs_egg_path+'/sample_files.txt'\n",
    "cdat_info.download_sample_data_files(path,\"sample_data\")\n",
    "```\n",
    "It might take a few moments for the commands to run.\n",
    "\n",
    "The data will be stored within a subfolder called \"sample_data\" in the same location from which you launched your JupyterLab interface. If you look at the left panel, you should see a folder titled \"sample_data\". If you double click on the sample_data folder, you will see many test files in a variety of formats.\n",
    "\n"
   ]
  },
  {
   "cell_type": "markdown",
   "metadata": {},
   "source": [
    "## Software\n",
    "\n",
    "VCDAT Jupyter-lab comes with the following core tools:\n",
    "\n",
    "* python >3\n",
    "* cdat_info\n",
    "* genutil\n",
    "* dv3d\n",
    "* libcdms >=3.1.2\n",
    "* vtk-cdat >8.1\n",
    "* cdms2\n",
    "* cdutil\n",
    "* requests\n",
    "* numpy\n",
    "* ghostscript\n"
   ]
  },
  {
   "cell_type": "markdown",
   "metadata": {},
   "source": [
    "### Conda\n",
    "You have access to conda as a software management tool.\n",
    "\n",
    "**NOTE: Anything installed in the [base] conda environment will not persist between sessions.**\n",
    "\n",
    "As an example, let's create a new environment based on python 3.6.\n",
    "\n",
    "**NOTE: For a new conda environment to be available in a Jupyter Lab you must install the \"ipykernel\" package.**"
   ]
  },
  {
   "cell_type": "code",
   "execution_count": null,
   "metadata": {
    "scrolled": true
   },
   "outputs": [],
   "source": [
    "!conda create -n test -c conda-forge -y python=3.6 ipykernel"
   ]
  },
  {
   "cell_type": "markdown",
   "metadata": {},
   "source": [
    "**NOTE: You will need to activate the conda environment through a terminal instance.**\n",
    "\n",
    "To use the new conda environment in a Jupyter Notebook you have two options:\n",
    "1. Choose the Hub menu at the top of this page (assuming you are viewing the notebook within a JupyterLab instance) and click \"Control Panel\". On the new page you'll need to click \"Stop My Server\" and then \"Start My Server\" OR,\n",
    "2. Run the following python script to load the new environment."
   ]
  },
  {
   "cell_type": "code",
   "execution_count": null,
   "metadata": {},
   "outputs": [],
   "source": [
    "!python -c \"from nb_conda_kernels import CondaKernelSpecManager; m = CondaKernelSpecManager(); m.find_kernel_specs()\""
   ]
  },
  {
   "cell_type": "markdown",
   "metadata": {},
   "source": [
    "In the upper right-hand corner, you can click the button similar to the one shown below to select the new \"test\" kernel."
   ]
  },
  {
   "cell_type": "markdown",
   "metadata": {},
   "source": [
    "![kernel](https://raw.githubusercontent.com/esgf-nimbus/getting_started/master/img/kernel.png)"
   ]
  },
  {
   "cell_type": "markdown",
   "metadata": {},
   "source": [
    "Now select the \"conda env:test\" kernel."
   ]
  },
  {
   "cell_type": "markdown",
   "metadata": {},
   "source": [
    "![selection](https://raw.githubusercontent.com/esgf-nimbus/getting_started/master/img/kernel_selection.png)"
   ]
  },
  {
   "cell_type": "markdown",
   "metadata": {},
   "source": [
    "Using the Jupyter Lab terminal you can activate the conda environment and install additional software.\n",
    "\n",
    "```bash\n",
    "conda activate test\n",
    "\n",
    "conda install -c conda-forge vcs\n",
    "```\n",
    "\n",
    "You can also do this from within a Notebook.\n",
    "\n",
    "**NOTE: This will run everytime the cell runs.**"
   ]
  },
  {
   "cell_type": "code",
   "execution_count": null,
   "metadata": {},
   "outputs": [],
   "source": [
    "!conda install -n test -c cdat/label/v81 -c conda-forge -y vcs"
   ]
  },
  {
   "cell_type": "markdown",
   "metadata": {},
   "source": [
    "Finally you can remove the environment but first if you activated the environment in this notebook you must choose another environment, e.g. \"root\", by changing the kernel either as you did before using the button in the upper right-hand corner or by clicking on the \"Kernel\" tab in the upper left and choosing \"Change Kernel\"."
   ]
  },
  {
   "cell_type": "code",
   "execution_count": null,
   "metadata": {},
   "outputs": [],
   "source": [
    "!conda env remove -n test -y"
   ]
  },
  {
   "cell_type": "code",
   "execution_count": null,
   "metadata": {},
   "outputs": [],
   "source": [
    "!conda env list # to see if \"test\" environment was removed"
   ]
  },
  {
   "cell_type": "markdown",
   "metadata": {},
   "source": [
    "## Next Steps\n",
    "\n",
    "Additional details on the interface and accessing data are included on the vCDAT [Access Data](https://github.com/CDAT/jupyter-vcdat/wiki/Access-Data) help page. CDAT (and vCDAT) can open any OPeNDAP file so if you wanted to get the latest CMIP6 data or other climate data you could use the Earth System Grid Federation (ESGF) data warehouse interface to access the OPeNDAP URL for that data. [This page](https://www.earthsystemcog.org/projects/cog/doc/opendap) provides details on browsing and downloading data from ESGF using OPeNDAP.\n",
    "\n",
    "Once you have a sample or \"real\" dataset, you might want to [Load Variables](https://github.com/CDAT/jupyter-vcdat/wiki/Load-Variables) and plot them (see the [Plot Variables](https://github.com/CDAT/jupyter-vcdat/wiki/Plot-Variables) page)."
   ]
  }
 ],
 "metadata": {
  "kernelspec": {
   "display_name": "Python [conda env:jupyter-vcdat] *",
   "language": "python",
   "name": "conda-env-jupyter-vcdat-py"
  },
  "language_info": {
   "codemirror_mode": {
    "name": "ipython",
    "version": 3
   },
   "file_extension": ".py",
   "mimetype": "text/x-python",
   "name": "python",
   "nbconvert_exporter": "python",
   "pygments_lexer": "ipython3",
   "version": "3.6.7"
  },
  "toc": {
   "base_numbering": 1,
   "nav_menu": {},
   "number_sections": false,
   "sideBar": false,
   "skip_h1_title": true,
   "title_cell": "Table of Contents",
   "title_sidebar": "Contents",
   "toc_cell": false,
   "toc_position": {},
   "toc_section_display": true,
   "toc_window_display": false
  }
 },
 "nbformat": 4,
 "nbformat_minor": 2
}
